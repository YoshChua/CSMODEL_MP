{
 "cells": [
  {
   "cell_type": "markdown",
   "id": "eaa98d43-6ef7-4ef3-bcbf-4442953517a0",
   "metadata": {},
   "source": [
    "# CSMODEL MACHINE PROJECT PHASE 1"
   ]
  },
  {
   "cell_type": "markdown",
   "id": "d0840416-923a-4c25-9061-9e24988041e7",
   "metadata": {},
   "source": [
    "## Phase 1: Dataset Description, Data Cleaning, and Research Question & Data Analysis\n",
    "\n",
    "### 1. Dataset Description\n",
    "- Provide a clear description of the dataset.\n",
    "- Explain how the dataset was collected and discuss any potential biases or implications.\n",
    "- Describe the structure of the dataset:\n",
    "  - What each row and column represents\n",
    "  - Number of observations\n",
    "  - Attributes/features present\n",
    "- Briefly explain each attribute (for structured data) or the nature of the observations (for unstructured data).\n",
    "\n",
    "### 2. Data Cleaning\n",
    "- Document the cleaning steps taken, such as:\n",
    "  - Handling missing data\n",
    "  - Fixing incorrect datatypes and inconsistent formatting\n",
    "  - Resolving duplicates and outliers\n",
    "  - Standardizing categorical values\n",
    "- For unstructured data, mention any transformation applied to convert it into a usable format.\n",
    "\n",
    "### 3. Research Question & EDA\n",
    "- Define a general research question relevant to your dataset.\n",
    "- Conduct Exploratory Data Analysis (EDA) iteratively with the research question.\n",
    "- Include at least 3 EDA questions and answer each using:\n",
    "  - Summary statistics (e.g., mean, median, standard deviation)\n",
    "  - Visualizations (e.g., histograms, box plots, distribution plots)"
   ]
  },
  {
   "cell_type": "markdown",
   "id": "74bf43e0-5a81-4bb2-8bc2-b82ee51d30b1",
   "metadata": {},
   "source": [
    "## Dataset Description\n",
    "\n",
    "### About the Dataset\n",
    "This dataset is a detailed record compiled by *The Washington Post* documenting every on-screen death in the **Game of Thrones** TV series across all eight seasons. It includes characters, background extras, and animals. When exact counts weren’t possible, educated estimations based on visual evidence were used.\n",
    "\n",
    "### Data Collection and Methodology\n",
    "\n",
    "**Criteria:**\n",
    "- The character is killed on-screen.\n",
    "- The character dies off-screen, but the death is confirmed or assumed due to imminent death while on screen.\n",
    "- Only prominent off-screen deaths are listed. (Prominence is determined mainly by importance to the plot.)\n",
    "\n",
    "**Key Methodological Notes:**\n",
    "- Dragonfire and wildfire deaths were estimated by visible area of effect and troop density.\n",
    "- Deaths are attributed to the direct killer, not the one who ordered the kill—unless the killer is unknown.\n",
    "- Special treatment is given to undead (wights), resurrections, and ambiguous causes of death.\n",
    "\n",
    "**Notes:**\n",
    "- If a character orders the death of another, the character who does the direct killing receives credit, not the one who orders the kill. But for cases in which where the direct killer is unidentifiable, the order-giver receives credit.\n",
    "- In cases of overlapping weapon types (e.g. magic fireball vs. fire vs. magic), the weapon category is assigned based on the origin. For example, dragonfire is considered an “animal” death and magic fireball is considered a “magic” death.\n",
    "- If a character is mercy-killed, the mercy kill is used to categorize the death, not the injuries leading up to the moment.\n",
    "  \n",
    "### Dataset Structure\n",
    "\n",
    "- **Total Observations:** 6,887 deaths\n",
    "- **Total Attributes:** 11\n",
    "\n",
    "The following are the descriptions of each variable in the dataset.\n",
    "- **`order`**: A unique index for the chronological order of deaths.\n",
    "- **`season`**: Season number (1 to 8) in which the death occurred.\n",
    "- **`episode`**: Episode number within the respective season.\n",
    "- **`character_killed`**: Name of the deceased character or creature.\n",
    "- **`killer`**: Name of the killer (individual, creature, or group).\n",
    "- **`method`**: Specific method of death (e.g., “Dragonfire”, “Sword (Ice)”).\n",
    "- **`method_cat`**: General category of death method (e.g., “Animal”, “Blade”, “Magic”).\n",
    "- **`reason`**: Explanation or motivation for the death (e.g., “Deserting the Night’s Watch”).\n",
    "- **`location`**: Specific place where the death occurred (e.g., “Winterfell”).\n",
    "- **`allegiance`**: Group, house, or faction the deceased belonged to.\n",
    "- **`importance`**: Level of narrative importance (1 = Background extra, 4 = Major character)."
   ]
  },
  {
   "cell_type": "markdown",
   "id": "500550f3-dd4e-432c-8621-9b108d25677f",
   "metadata": {},
   "source": [
    "## Data Cleaning\n",
    "### This section explains all the procedures applied during the data cleaning process."
   ]
  },
  {
   "cell_type": "code",
   "execution_count": 1,
   "id": "2bd4c73c-242c-45ca-a3d8-deb765bbd380",
   "metadata": {},
   "outputs": [],
   "source": [
    "import numpy as np\n",
    "import pandas as pd\n",
    "import matplotlib.pyplot as plt\n",
    "\n",
    "# sets the theme of the charts\n",
    "plt.style.use('ggplot')\n",
    "\n",
    "%matplotlib inline"
   ]
  },
  {
   "cell_type": "code",
   "execution_count": 2,
   "id": "d1d95f49-ccf1-433c-bb4d-1ae6c8ef4df6",
   "metadata": {},
   "outputs": [],
   "source": [
    "GOTdeaths_df = pd.read_csv('game-of-thrones-deaths-data.csv')"
   ]
  },
  {
   "cell_type": "code",
   "execution_count": 4,
   "id": "f5393c18-c1bf-4357-9816-c3df74583a31",
   "metadata": {},
   "outputs": [
    {
     "name": "stdout",
     "output_type": "stream",
     "text": [
      "<class 'pandas.core.frame.DataFrame'>\n",
      "RangeIndex: 6887 entries, 0 to 6886\n",
      "Data columns (total 11 columns):\n",
      " #   Column            Non-Null Count  Dtype  \n",
      "---  ------            --------------  -----  \n",
      " 0   order             6887 non-null   int64  \n",
      " 1   season            6887 non-null   int64  \n",
      " 2   episode           6887 non-null   int64  \n",
      " 3   character_killed  6887 non-null   object \n",
      " 4   killer            6410 non-null   object \n",
      " 5   method            6887 non-null   object \n",
      " 6   method_cat        6887 non-null   object \n",
      " 7   reason            6886 non-null   object \n",
      " 8   location          6887 non-null   object \n",
      " 9   allegiance        3136 non-null   object \n",
      " 10  importance        6886 non-null   float64\n",
      "dtypes: float64(1), int64(3), object(7)\n",
      "memory usage: 592.0+ KB\n"
     ]
    }
   ],
   "source": [
    "GOTdeaths_df.info()"
   ]
  },
  {
   "cell_type": "code",
   "execution_count": null,
   "id": "369a3876-8551-4446-b036-12a1772d1899",
   "metadata": {},
   "outputs": [],
   "source": []
  }
 ],
 "metadata": {
  "kernelspec": {
   "display_name": "Python 3 (ipykernel)",
   "language": "python",
   "name": "python3"
  },
  "language_info": {
   "codemirror_mode": {
    "name": "ipython",
    "version": 3
   },
   "file_extension": ".py",
   "mimetype": "text/x-python",
   "name": "python",
   "nbconvert_exporter": "python",
   "pygments_lexer": "ipython3",
   "version": "3.10.5"
  }
 },
 "nbformat": 4,
 "nbformat_minor": 5
}
